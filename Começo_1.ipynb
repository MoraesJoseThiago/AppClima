{
  "nbformat": 4,
  "nbformat_minor": 0,
  "metadata": {
    "colab": {
      "name": "Começo_1",
      "provenance": [],
      "collapsed_sections": [],
      "toc_visible": true,
      "authorship_tag": "ABX9TyNYtzw/MqoKvGNqSQt9lOq/",
      "include_colab_link": true
    },
    "kernelspec": {
      "name": "python3",
      "display_name": "Python 3"
    },
    "language_info": {
      "name": "python"
    }
  },
  "cells": [
    {
      "cell_type": "markdown",
      "metadata": {
        "id": "view-in-github",
        "colab_type": "text"
      },
      "source": [
        "<a href=\"https://colab.research.google.com/github/MoraesJoseThiago/AppClima/blob/main/Come%C3%A7o_1.ipynb\" target=\"_parent\"><img src=\"https://colab.research.google.com/assets/colab-badge.svg\" alt=\"Open In Colab\"/></a>"
      ]
    },
    {
      "cell_type": "code",
      "execution_count": null,
      "metadata": {
        "id": "qka8n7A-d6C_"
      },
      "outputs": [],
      "source": [
        "#Imprime um comentario\n",
        "print (\"Hello word\")"
      ]
    },
    {
      "cell_type": "code",
      "source": [
        "#Int - 0,1,2,3 || float - 0.5, 0.6 1.2\n",
        "1 + 1.6"
      ],
      "metadata": {
        "id": "MgWTxX5mfVZG"
      },
      "execution_count": null,
      "outputs": []
    },
    {
      "cell_type": "code",
      "source": [
        "#Variaveis = recebe alguma coisa\n",
        "A = 5\n",
        "B = 10\n",
        "C = A + B\n",
        "print(A)\n",
        "print(B)\n",
        "print(C)"
      ],
      "metadata": {
        "id": "M0MpfBr3fmxP"
      },
      "execution_count": null,
      "outputs": []
    },
    {
      "cell_type": "code",
      "source": [
        " #Ta vendo as aspas ali em cima, tem um espaço, o \"strip\" tira esses espaços\n",
        "a = \" Ola Mundo \"\n",
        "print(a.strip()) \n",
        "#---------------------------------#\n",
        "#Deixa tudo minusculo\n",
        "b = \"OLA MUNDO\"\n",
        "print(b.lower())\n",
        "#---------------------------------#\n",
        "#Deixa tudo maiusculo\n",
        "c = \"ola mundo\"\n",
        "print(c.upper())\n",
        "#---------------------------------#\n",
        "#Curiosidade\n",
        "d = \"OlA\"\n",
        "e = \"MuNdO\"\n",
        "f = d + \" \" + e\n",
        "print(f)"
      ],
      "metadata": {
        "id": "EQhxOR8zlViO"
      },
      "execution_count": null,
      "outputs": []
    },
    {
      "cell_type": "code",
      "source": [
        "#Type mostra se e: String, inteiro, float, etc.\n",
        "a = \"Ola mundo\"\n",
        "b = 5\n",
        "c = 3.5\n",
        "d = 1+2j\n",
        "\n",
        "print(type(a))\n",
        "print(type(b))\n",
        "print(type(c))\n",
        "print(type(d))"
      ],
      "metadata": {
        "id": "UeX1NDIxnZxv"
      },
      "execution_count": null,
      "outputs": []
    },
    {
      "cell_type": "code",
      "source": [
        "#int\n",
        "a = int(2)\n",
        "b = int(2.8)\n",
        "c = int('2')\n",
        "print(a, b, c)\n",
        "#---------------------------------#\n",
        "#float\n",
        "x = float(3)\n",
        "y = float(3.8)\n",
        "z = float(\"2.3\")\n",
        "\n",
        "print(x, y, z)\n",
        "#---------------------------------#\n",
        "#str \n",
        "t = \"s1\"\n",
        "s = 2\n",
        "g = 2.3\n",
        "print(\"A variavel t eh do tipo: \", type(t))\n",
        "print(\"A variavel s eh do tipo: \", type(s))\n",
        "print(\"A variavel g eh do tipo: \", type(g))\n",
        "#---------------------------------#\n",
        "#str \n",
        "t = str(\"s1\")\n",
        "s = str(2)\n",
        "g = str(2.3)\n",
        "print(\"A variavel t eh do tipo: \", type(t))\n",
        "print(\"A variavel s eh do tipo: \", type(s))\n",
        "print(\"A variavel g eh do tipo: \", type(g))"
      ],
      "metadata": {
        "id": "qhdQcSUSn8Bh"
      },
      "execution_count": null,
      "outputs": []
    },
    {
      "cell_type": "code",
      "source": [
        "#Variaveis global - Pode ser usada em qualquer lugar do codigo\n",
        "#Variaveis local - Pode ser usada apenas naql codigo em especifico"
      ],
      "metadata": {
        "id": "eiAkBGUCp9YF"
      },
      "execution_count": null,
      "outputs": []
    }
  ]
}